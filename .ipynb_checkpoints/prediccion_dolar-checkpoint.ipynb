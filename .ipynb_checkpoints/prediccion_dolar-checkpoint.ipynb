{
 "cells": [
  {
   "cell_type": "code",
   "execution_count": 15,
   "id": "7e6b723d-31d5-4a27-a8ae-03f6a7eddc5f",
   "metadata": {
    "tags": []
   },
   "outputs": [],
   "source": [
    "import os\n",
    "import boto3\n",
    "import pandas as pd"
   ]
  },
  {
   "cell_type": "code",
   "execution_count": 14,
   "id": "e13d30fb-0cdf-4175-8a23-cc1999a20fa1",
   "metadata": {
    "tags": []
   },
   "outputs": [],
   "source": [
    "# Accedo y descargo los archivos de precios del dolar en S3\n",
    "s3_resource = boto3.resource('s3')\n",
    "s3_client = boto3.client('s3')\n",
    "bucket_name = 'proccesed-dollar-mia-electiva-3'\n",
    "\n",
    "bucket = s3_resource.Bucket(bucket_name)\n",
    "\n",
    "folder_name = 'precios_dolar'\n",
    "\n",
    "for obj in bucket.objects.all():\n",
    "    s3_client.download_file(bucket_name, obj.key, f'{folder_name}/{obj.key}')"
   ]
  },
  {
   "cell_type": "code",
   "execution_count": null,
   "id": "479a575a-f0f3-4356-a800-bda2ec21ea6c",
   "metadata": {},
   "outputs": [],
   "source": [
    "# Lee todos los archivos para extraer el precio diario del dolar al cierre de la jornada\n",
    "for filename in os.listdir(folder_name):\n",
    "    file_path = (os.path.join(folder_name, filename))\n",
    "    if os.path.isfile(file_path):\n",
    "        print(pd.read_csv('archivo.csv'))\n",
    "#df = pd.read_csv('archivo.csv')"
   ]
  }
 ],
 "metadata": {
  "kernelspec": {
   "display_name": "conda_python3",
   "language": "python",
   "name": "conda_python3"
  },
  "language_info": {
   "codemirror_mode": {
    "name": "ipython",
    "version": 3
   },
   "file_extension": ".py",
   "mimetype": "text/x-python",
   "name": "python",
   "nbconvert_exporter": "python",
   "pygments_lexer": "ipython3",
   "version": "3.10.8"
  }
 },
 "nbformat": 4,
 "nbformat_minor": 5
}

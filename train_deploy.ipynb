{
 "cells": [
  {
   "cell_type": "code",
   "execution_count": 42,
   "id": "e49e8cf1-2783-43ae-b120-9a9a7902ed6a",
   "metadata": {
    "tags": []
   },
   "outputs": [],
   "source": [
    "import pandas as pd\n",
    "import math\n",
    "import json\n",
    "import numpy as np\n",
    "import random\n",
    "\n",
    "import sagemaker\n",
    "from sagemaker.sklearn.model import SKLearnModel"
   ]
  },
  {
   "cell_type": "markdown",
   "id": "08416b20-41de-4137-936a-911b1ee20925",
   "metadata": {},
   "source": [
    "#### Configuracion"
   ]
  },
  {
   "cell_type": "code",
   "execution_count": 47,
   "id": "67f171da-4bd6-4913-928c-7eb6f4c1063f",
   "metadata": {
    "tags": []
   },
   "outputs": [],
   "source": [
    "np.random.seed(42)\n",
    "random.seed(42)\n",
    "\n",
    "sagemaker_session = sagemaker.Session()\n",
    "region = sagemaker_session.boto_region_name\n",
    "image_name = sagemaker.image_uris.retrieve(\"forecasting-deepar\", region)\n",
    "role='LabRole'\n",
    "s3_bucket = 'mia-electiva3-dollar-predictor'\n",
    "s3_output_path = \"s3://{}/{}/output\".format(s3_bucket, 'deepar-model')"
   ]
  },
  {
   "cell_type": "markdown",
   "id": "33809ccd-8799-4858-a6a4-763b97526886",
   "metadata": {},
   "source": [
    "### Cargar dataset"
   ]
  },
  {
   "cell_type": "code",
   "execution_count": 8,
   "id": "8370dc7b-ce69-45e3-bbcf-5e3c0c3ee553",
   "metadata": {
    "tags": []
   },
   "outputs": [],
   "source": [
    "# Cargar el dataset de precios por hora del dolar\n",
    "df = pd.read_csv('dollar_hourly_price.csv')"
   ]
  },
  {
   "cell_type": "code",
   "execution_count": 44,
   "id": "445388b0-ad77-4da6-8c25-08f411efc059",
   "metadata": {
    "tags": []
   },
   "outputs": [
    {
     "data": {
      "text/html": [
       "<div>\n",
       "<style scoped>\n",
       "    .dataframe tbody tr th:only-of-type {\n",
       "        vertical-align: middle;\n",
       "    }\n",
       "\n",
       "    .dataframe tbody tr th {\n",
       "        vertical-align: top;\n",
       "    }\n",
       "\n",
       "    .dataframe thead th {\n",
       "        text-align: right;\n",
       "    }\n",
       "</style>\n",
       "<table border=\"1\" class=\"dataframe\">\n",
       "  <thead>\n",
       "    <tr style=\"text-align: right;\">\n",
       "      <th></th>\n",
       "      <th>fecha</th>\n",
       "      <th>precio</th>\n",
       "    </tr>\n",
       "  </thead>\n",
       "  <tbody>\n",
       "    <tr>\n",
       "      <th>0</th>\n",
       "      <td>2023-02-17 13:00:00</td>\n",
       "      <td>4935.512073</td>\n",
       "    </tr>\n",
       "    <tr>\n",
       "      <th>1</th>\n",
       "      <td>2023-02-17 14:00:00</td>\n",
       "      <td>4933.093721</td>\n",
       "    </tr>\n",
       "    <tr>\n",
       "      <th>2</th>\n",
       "      <td>2023-02-17 15:00:00</td>\n",
       "      <td>4930.773292</td>\n",
       "    </tr>\n",
       "    <tr>\n",
       "      <th>3</th>\n",
       "      <td>2023-02-17 16:00:00</td>\n",
       "      <td>4922.921354</td>\n",
       "    </tr>\n",
       "    <tr>\n",
       "      <th>4</th>\n",
       "      <td>2023-02-17 17:00:00</td>\n",
       "      <td>4921.032044</td>\n",
       "    </tr>\n",
       "  </tbody>\n",
       "</table>\n",
       "</div>"
      ],
      "text/plain": [
       "                 fecha       precio\n",
       "0  2023-02-17 13:00:00  4935.512073\n",
       "1  2023-02-17 14:00:00  4933.093721\n",
       "2  2023-02-17 15:00:00  4930.773292\n",
       "3  2023-02-17 16:00:00  4922.921354\n",
       "4  2023-02-17 17:00:00  4921.032044"
      ]
     },
     "execution_count": 44,
     "metadata": {},
     "output_type": "execute_result"
    }
   ],
   "source": [
    "df.head()"
   ]
  },
  {
   "cell_type": "markdown",
   "id": "6f335b96-d2ef-4d2a-b3d7-27b50fae5f99",
   "metadata": {
    "tags": []
   },
   "source": [
    "### Entrenamiento - DeepAR\n",
    "El modelo por defecto de SageMaker para series de tiempo es DeepAR, y teniendo en cuenta los malos resultados obtenidos con otros modelos, se va a realizar el ejercicio de entrenamiento y despligue con este modelo"
   ]
  },
  {
   "cell_type": "code",
   "execution_count": 15,
   "id": "c4fc4df6-86a5-4b28-a130-4a0bd67443dc",
   "metadata": {
    "tags": []
   },
   "outputs": [],
   "source": [
    "# Dividir el dataset en datos de entrenamiento y test\n",
    "train_size = math.ceil(len(df) * 0.7)\n",
    "train_data = df[:train_size]\n",
    "test_data = df[train_size:]"
   ]
  },
  {
   "cell_type": "markdown",
   "id": "a7eb2ad8-9b54-46dd-915a-42a77ad520ae",
   "metadata": {
    "jp-MarkdownHeadingCollapsed": true,
    "tags": []
   },
   "source": [
    "##### Convierto el dataset al formato json que acepta DeepAR"
   ]
  },
  {
   "cell_type": "code",
   "execution_count": 29,
   "id": "6f8fb176-cb03-4409-8eb1-909c8cacc29e",
   "metadata": {
    "tags": []
   },
   "outputs": [
    {
     "name": "stdout",
     "output_type": "stream",
     "text": [
      "[{'start': '2023-02-17 13:00:00', 'target': [4935.512073285198]}, {'start': '2023-02-17 14:00:00', 'target': [4933.093720736434]}, {'start': '2023-02-17 15:00:00', 'target': [4930.773292125985]}, {'start': '2023-02-17 16:00:00', 'target': [4922.921353719009]}, {'start': '2023-02-17 17:00:00', 'target': [4921.032043902439]}]\n"
     ]
    }
   ],
   "source": [
    "json_training_data = [\n",
    "    {\n",
    "        \"start\": str(ts['fecha']),\n",
    "        \"target\": [ts['precio']],  # We use -1, because pandas indexing includes the upper bound\n",
    "    }\n",
    "    for idx, ts in train_data.iterrows()\n",
    "]\n",
    "print(json_training_data[:5])"
   ]
  },
  {
   "cell_type": "code",
   "execution_count": 31,
   "id": "92f6a7a6-c8cb-4c1a-b07e-f7d1f286ac6b",
   "metadata": {
    "tags": []
   },
   "outputs": [
    {
     "name": "stdout",
     "output_type": "stream",
     "text": [
      "[{'start': '2023-04-05 14:00:00', 'target': [4567.517916143497]}, {'start': '2023-04-05 15:00:00', 'target': [4571.212102392345]}, {'start': '2023-04-05 16:00:00', 'target': [4571.11388]}, {'start': '2023-04-05 17:00:00', 'target': [4570.980660150375]}, {'start': '2023-04-05 18:00:00', 'target': [4570.7655]}]\n"
     ]
    }
   ],
   "source": [
    "json_test_data = [\n",
    "    {\n",
    "        \"start\": str(ts['fecha']),\n",
    "        \"target\": [ts['precio']],  # We use -1, because pandas indexing includes the upper bound\n",
    "    }\n",
    "    for idx, ts in test_data.iterrows()\n",
    "]\n",
    "print(json_test_data[-5:])"
   ]
  },
  {
   "cell_type": "code",
   "execution_count": 35,
   "id": "765f8a28-e42b-419f-9e28-cdea3078591d",
   "metadata": {
    "tags": []
   },
   "outputs": [],
   "source": [
    "# Guardo el archivo json para ser usado luego en el entranamiento\n",
    "def write_dicts_to_file(path, data):\n",
    "    with open(path, \"wb\") as fp:\n",
    "        for d in data:\n",
    "            fp.write(json.dumps(d).encode(\"utf-8\"))\n",
    "            fp.write(\"\\n\".encode(\"utf-8\"))"
   ]
  },
  {
   "cell_type": "code",
   "execution_count": 36,
   "id": "6c77cb05-f71a-4dc4-8e78-8e79fc6ce711",
   "metadata": {
    "tags": []
   },
   "outputs": [
    {
     "name": "stdout",
     "output_type": "stream",
     "text": [
      "CPU times: user 1.85 ms, sys: 0 ns, total: 1.85 ms\n",
      "Wall time: 2.9 ms\n"
     ]
    }
   ],
   "source": [
    "%%time\n",
    "write_dicts_to_file(\"train.json\", json_training_data)\n",
    "write_dicts_to_file(\"test.json\", json_test_data)"
   ]
  },
  {
   "cell_type": "markdown",
   "id": "9f2ef2fd-8029-4e2f-9b21-ddd77f1d42fe",
   "metadata": {},
   "source": [
    "##### Entrenamiento del Modelo"
   ]
  },
  {
   "cell_type": "code",
   "execution_count": null,
   "id": "2050e4e1-6c9c-47c4-ae18-e70bd9dd6d91",
   "metadata": {},
   "outputs": [],
   "source": [
    "estimator = sagemaker.estimator.Estimator(\n",
    "    image_uri=image_name,\n",
    "    sagemaker_session=sagemaker_session,\n",
    "    role=role,\n",
    "    train_instance_count=1,\n",
    "    train_instance_type=\"ml.m4.large\",\n",
    "    base_job_name=\"dollar-predictor\",\n",
    "    output_path=s3_output_path,\n",
    ")"
   ]
  },
  {
   "cell_type": "code",
   "execution_count": null,
   "id": "537ea2c6-0bb2-4b37-a554-e5fbf2a17b27",
   "metadata": {},
   "outputs": [],
   "source": [
    "hyperparameters = {\n",
    "    \"time_freq\": freq,\n",
    "    \"epochs\": \"400\",\n",
    "    \"early_stopping_patience\": \"40\",\n",
    "    \"mini_batch_size\": \"64\",\n",
    "    \"learning_rate\": \"5E-4\",\n",
    "    \"context_length\": str(context_length),\n",
    "    \"prediction_length\": str(prediction_length),\n",
    "}"
   ]
  },
  {
   "cell_type": "code",
   "execution_count": null,
   "id": "022914ee-ccdf-444c-8fbd-fe73595543f2",
   "metadata": {},
   "outputs": [],
   "source": [
    "estimator.set_hyperparameters(**hyperparameters)"
   ]
  }
 ],
 "metadata": {
  "kernelspec": {
   "display_name": "conda_pytorch_p39",
   "language": "python",
   "name": "conda_pytorch_p39"
  },
  "language_info": {
   "codemirror_mode": {
    "name": "ipython",
    "version": 3
   },
   "file_extension": ".py",
   "mimetype": "text/x-python",
   "name": "python",
   "nbconvert_exporter": "python",
   "pygments_lexer": "ipython3",
   "version": "3.9.15"
  }
 },
 "nbformat": 4,
 "nbformat_minor": 5
}
